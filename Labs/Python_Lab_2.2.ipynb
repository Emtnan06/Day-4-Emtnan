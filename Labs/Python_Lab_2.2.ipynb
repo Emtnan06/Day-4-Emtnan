{
 "cells": [
  {
   "cell_type": "markdown",
   "metadata": {
    "id": "E9Y5ss1ZYj3r"
   },
   "source": [
    "# Python_Lab_2.2\n"
   ]
  },
  {
   "cell_type": "markdown",
   "metadata": {
    "id": "Q1kAqc72Yj3t"
   },
   "source": [
    "### Task 1\n",
    "1. Write a program that prompts the user to enter two numbers and prints their division. Handle cases where the user enters non-numeric values or attempts to divide by zero using a try-except block.\n"
   ]
  },
  {
   "cell_type": "code",
   "execution_count": 7,
   "metadata": {
    "id": "H-xyoRTVYj3t"
   },
   "outputs": [
    {
     "name": "stdout",
     "output_type": "stream",
     "text": [
      "Error: division by zero is not allowed.\n"
     ]
    }
   ],
   "source": [
    "try:\n",
    "\n",
    "    number1 = int(input(\"Enter the first number: \"))  \n",
    "    number2 = int(input(\"Enter the second number: \")) \n",
    "\n",
    "\n",
    "    resultofdivision = number1 / number2\n",
    "    print(f\"Result of division : {number1} / {number2} = {resultofdivision}\")  \n",
    "\n",
    "except ValueError:\n",
    "    print(\"Error: please enter numeric values\") \n",
    "\n",
    "\n",
    "except ZeroDivisionError:\n",
    "    print(\"Error: division by zero is not allowed.\") \n",
    "\n"
   ]
  },
  {
   "cell_type": "markdown",
   "metadata": {
    "id": "CPWcDSC_Yj3u"
   },
   "source": [
    "### Task 2\n",
    "- Use \"Random\" library to do the following:\n",
    "    1. Create a list of random numbers using list comprehension.\n",
    "    2. Create a list of squares of the even numbers from random numbers using list comprehension.\n",
    "    3. Create a list of tuples (number, square) for random numbers using list comprehension."
   ]
  },
  {
   "cell_type": "code",
   "execution_count": 10,
   "metadata": {
    "id": "Yfq-i6CeYj3u"
   },
   "outputs": [
    {
     "name": "stdout",
     "output_type": "stream",
     "text": [
      "Random Numbers: [8, 47, 23, 26, 32, 46, 17, 8, 31, 30]\n"
     ]
    }
   ],
   "source": [
    "import random  \n",
    "print(\"Random Numbers:\", )[random.randint(1, 50) for i in range(10)]"
   ]
  },
  {
   "cell_type": "code",
   "execution_count": 18,
   "metadata": {},
   "outputs": [
    {
     "name": "stdout",
     "output_type": "stream",
     "text": [
      "Squares of Even Numbers: [16, 676, 1600, 4, 784, 784]\n"
     ]
    }
   ],
   "source": [
    "\n",
    "even_squares = [num ** 2 for num in [random.randint(1, 50) for i in range(10)] if num % 2 == 0]\n",
    "print(\"Squares of Even Numbers:\", even_squares)"
   ]
  },
  {
   "cell_type": "code",
   "execution_count": 29,
   "metadata": {},
   "outputs": [
    {
     "name": "stdout",
     "output_type": "stream",
     "text": [
      "List of Tuples : [(16, 256), (47, 2209), (44, 1936), (11, 121), (3, 9), (15, 225), (23, 529), (13, 169), (5, 25), (13, 169)]\n"
     ]
    }
   ],
   "source": [
    "\n",
    "numberSquare = [(num, num ** 2) for num in [random.randint(1, 50) for i in range(10)]]\n",
    "print(\"List of Tuples :\", numberSquare)\n"
   ]
  },
  {
   "cell_type": "markdown",
   "metadata": {
    "id": "jYdOq46NYj3u"
   },
   "source": [
    "### Task 3\n",
    "- Create a dictionary where the keys are numbers from 1 to 5 and the values are list of their squares and cubes.\n",
    "\n",
    "  - **hint**: use dictionary of list comprehension.\n",
    "\n",
    "- Create a dictionary from two lists (one with keys and one with values) using dictionary comprehension.\n",
    "\n"
   ]
  },
  {
   "cell_type": "code",
   "execution_count": 31,
   "metadata": {
    "id": "IEnsiNmCYj3u"
   },
   "outputs": [
    {
     "name": "stdout",
     "output_type": "stream",
     "text": [
      "Dictionary of Squares and Cubes: {1: [1, 1], 2: [4, 8], 3: [9, 27], 4: [16, 64], 5: [25, 125]}\n"
     ]
    }
   ],
   "source": [
    "\n",
    "squares_cubes = {num: [num ** 2, num ** 3] for num in range(1, 6)}\n",
    "print(\"Dictionary of Squares and Cubes:\", squares_cubes)\n"
   ]
  },
  {
   "cell_type": "code",
   "execution_count": 34,
   "metadata": {},
   "outputs": [
    {
     "name": "stdout",
     "output_type": "stream",
     "text": [
      "Dictionary : {'A+': 95, 'B+': 85, 'C+': 75, 'D+': 65, 'F': 59}\n"
     ]
    }
   ],
   "source": [
    "\n",
    "keys = [\"A+\", \"B+\", \"C+\", \"D+\", \"F\"]\n",
    "values = [95, 85, 75, 65, 59]\n",
    "\n",
    "\n",
    "list_to_dict = {k: v for k, v in zip(keys, values)}\n",
    "\n",
    "print(\"Dictionary :\", list_to_dict)\n"
   ]
  },
  {
   "cell_type": "markdown",
   "metadata": {
    "id": "6T9TCQ8SYj3v"
   },
   "source": [
    "### Task 4\n",
    "- Given a dictionary where keys are student names and values are lists of their scores, write a function that updates the scores of students who have achieved a perfect score (100) by adding a bonus of 5 points to each score. Use dictionary comprehension to achieve this.\n",
    "\n",
    "    - Implement the function add_bonus_to_perfect_scores(student_scores) that adds a bonus of 5 points to each score of students who have achieved a perfect score (100)."
   ]
  },
  {
   "cell_type": "code",
   "execution_count": 48,
   "metadata": {},
   "outputs": [
    {
     "name": "stdout",
     "output_type": "stream",
     "text": [
      "Updated Student Scores: {'Noura': [43, 67, 85], 'Sara': [65, 67, 79], 'Ahmad': [80, 65, 73], 'Yara': [98, 100, 105], 'Zyaid': [105, 85, 100]}\n"
     ]
    }
   ],
   "source": [
    "\n",
    "students = {\n",
    "    \"Noura\": [43, 67, 85],\n",
    "    \"Sara\": [65, 67, 79],\n",
    "    \"Ahmad\": [80, 65, 73],\n",
    "    \"Yara\": [93, 95, 100],\n",
    "    \"Zyaid\": [100, 80, 95]\n",
    "}\n",
    "\n",
    "def add_bonus(student_scores):\n",
    "    updated_scores = {\n",
    "        key: [value + 5 if 100 in listscore else value for value in listscore]\n",
    "        for key, listscore in student_scores.items()  \n",
    "    }\n",
    "    return updated_scores\n",
    "\n",
    "\n",
    "print(\"Updated Student Scores:\",  add_bonus(students))\n"
   ]
  },
  {
   "cell_type": "markdown",
   "metadata": {
    "id": "rJkOEFAwYj3v"
   },
   "source": []
  }
 ],
 "metadata": {
  "colab": {
   "provenance": []
  },
  "kernelspec": {
   "display_name": "Python 3",
   "language": "python",
   "name": "python3"
  },
  "language_info": {
   "codemirror_mode": {
    "name": "ipython",
    "version": 3
   },
   "file_extension": ".py",
   "mimetype": "text/x-python",
   "name": "python",
   "nbconvert_exporter": "python",
   "pygments_lexer": "ipython3",
   "version": "3.9.6"
  }
 },
 "nbformat": 4,
 "nbformat_minor": 0
}
