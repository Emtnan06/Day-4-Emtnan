{
 "cells": [
  {
   "cell_type": "markdown",
   "metadata": {
    "id": "x7F-mxeubDUG"
   },
   "source": [
    "# Python_Lab_2.1\n"
   ]
  },
  {
   "cell_type": "markdown",
   "metadata": {
    "id": "14c6Hn1BbDUH"
   },
   "source": [
    "### Task 1\n",
    "1. Write a function named is_prime that takes a number as a parameter and returns True if the number is prime and False otherwise. Print whether the number 29 is prime."
   ]
  },
  {
   "cell_type": "code",
   "execution_count": 39,
   "metadata": {
    "id": "5e_MZEN0bDUI"
   },
   "outputs": [
    {
     "name": "stdout",
     "output_type": "stream",
     "text": [
      "1 is not a prime number \n",
      "2 is a prime number \n",
      "19 is a prime number \n",
      "21 is not a prime number \n"
     ]
    }
   ],
   "source": [
    "def is_prime (number):\n",
    "    if number < 2 :\n",
    "        return f'{number} is not a prime number '\n",
    "    \n",
    "    for forcounter in range (2, number ):\n",
    "       if number % forcounter == 0 :\n",
    "               return f'{number} is not a prime number '\n",
    "\n",
    "    return f'{number} is a prime number '\n",
    "\n",
    "print(is_prime(1))\n",
    "print(is_prime(2))\n",
    "print(is_prime(19))\n",
    "print(is_prime(21))"
   ]
  },
  {
   "cell_type": "markdown",
   "metadata": {
    "id": "2zKG8ZcybDUI"
   },
   "source": [
    "### Task 2\n",
    "1. Create a list of 10 numbers and sort them in descending order using the sort() function.\n",
    "2. Use the len() function to print the length of the sorted list.\n",
    "3. Use the zip() function to combine three lists (names, ages, and cities) into a list of tuples.\n",
    "4. Use the range() function to create a list of even numbers from 2 to 20 and print the list."
   ]
  },
  {
   "cell_type": "code",
   "execution_count": 44,
   "metadata": {
    "id": "yyoe__M_bDUI"
   },
   "outputs": [
    {
     "name": "stdout",
     "output_type": "stream",
     "text": [
      " The list of number  before sorting  [1, 9, 6, 12, 4, 7, 3, 2, 8, 11] \n",
      " The list of number after sorting [12, 11, 9, 8, 7, 6, 4, 3, 2, 1] \n"
     ]
    }
   ],
   "source": [
    "sort_listNumbers = [ 1 , 9 , 6 , 12 , 4 , 7 , 3 , 2 , 8 , 11]\n",
    "print(f\" The list of number  before sorting  {sort_listNumbers} \")\n",
    "sort_listNumbers.sort(reverse = True)\n",
    "print(f\" The list of number after sorting {sort_listNumbers} \")"
   ]
  },
  {
   "cell_type": "code",
   "execution_count": 43,
   "metadata": {},
   "outputs": [
    {
     "name": "stdout",
     "output_type": "stream",
     "text": [
      "Length of list is  10\n"
     ]
    }
   ],
   "source": [
    "print(\"Length of list is \",len(sort_listNumbers))\n"
   ]
  },
  {
   "cell_type": "code",
   "execution_count": 2,
   "metadata": {},
   "outputs": [
    {
     "name": "stdout",
     "output_type": "stream",
     "text": [
      "Combined List : [('Emtnan', 22, 'Qassim'), ('Ghada', 25, 'Riyadh'), ('Thekra', 28, 'Jeddah'), ('Jood', 20, 'Dammam')] \n"
     ]
    }
   ],
   "source": [
    "names = [\"Emtnan\" , \"Ghada\" , \"Thekra\" , \"Jood\"]\n",
    "ages = [22 , 25 , 28 , 20]\n",
    "cities = [\"Qassim\" , \"Riyadh\" , \"Jeddah\" , \"Dammam\"]\n",
    "\n",
    "combinedList = list(zip( names , ages , cities))\n",
    "print (f\"Combined List : {combinedList} \")"
   ]
  },
  {
   "cell_type": "code",
   "execution_count": 1,
   "metadata": {},
   "outputs": [
    {
     "name": "stdout",
     "output_type": "stream",
     "text": [
      "Even Numbers List: [2, 4, 6, 8, 10, 12, 14, 16, 18, 20]\n"
     ]
    }
   ],
   "source": [
    "even_numbers = list(range(2, 21, 2))\n",
    "print(\"Even Numbers List:\", even_numbers)"
   ]
  },
  {
   "cell_type": "markdown",
   "metadata": {
    "id": "aStW5p7AbDUI"
   },
   "source": [
    "### Task 3\n",
    "Build a phone book program that receives the phone number, and returns the name of the owner.\n",
    "You can follow the table below:\n",
    "\n",
    "| Name     | Number     |\n",
    "| -------- | ---------- |\n",
    "| Amal     | 1111111111 |\n",
    "| Mohammed | 2222222222 |\n",
    "| Khadijah | 3333333333 |\n",
    "| Abdullah | 4444444444 |\n",
    "| Rawan    | 5555555555 |\n",
    "| Faisal   | 6666666666 |\n",
    "| Layla    | 7777777777 |\n",
    "\n",
    "- If the number exists, print the owner. Otherwise, print \"Sorry, the number is not found\".\n",
    "- If the number is less or more than 10 numbers, print \"This is invalid number\".\n",
    "- If the number contains letters or symbols, print \"This is invalid number\".\n"
   ]
  },
  {
   "cell_type": "code",
   "execution_count": 6,
   "metadata": {
    "id": "kvXmjUe-bDUJ"
   },
   "outputs": [
    {
     "name": "stdout",
     "output_type": "stream",
     "text": [
      "The owner of the number is Faisal\n",
      "Sorry, the number is not found\n",
      "This is invalid number\n",
      "This is invalid number\n"
     ]
    }
   ],
   "source": [
    "phone_book = {\n",
    "    \"Amal\": \"1111111111\",\n",
    "    \"Mohammed\": \"2222222222\",\n",
    "    \"Khadijah\": \"3333333333\",\n",
    "    \"Abdullah\": \"4444444444\",\n",
    "    \"Rawan\": \"5555555555\",\n",
    "    \"Faisal\": \"6666666666\",\n",
    "    \"Layla\": \"7777777777\"\n",
    "}\n",
    "\n",
    "def findOwner(phone_number):\n",
    "\n",
    "    if  phone_number.isdigit() == False or len(phone_number) != 10:\n",
    "        return \"This is invalid number\"\n",
    "    \n",
    " \n",
    "    for name, number in phone_book.items():\n",
    "        if number == phone_number:\n",
    "            return f\"The owner of the number is {name}\"\n",
    "    \n",
    "    return \"Sorry, the number is not found\"\n",
    "\n",
    "print(findOwner(\"6666666666\"))\n",
    "print(findOwner(\"9999999999\"))\n",
    "print(findOwner(\"Emtnan\"))\n",
    "print(findOwner(\"666@@%\"))"
   ]
  },
  {
   "cell_type": "markdown",
   "metadata": {
    "id": "exLHQ28nbDUJ"
   },
   "source": [
    "### Task 4\n",
    "- Given the following list : [5, 4, 17, 19, 30, 2, 7, 10, 45]\n",
    "    1. Use a lambda function to filter out only the odd numbers.\n",
    "    2. Print the new list of odd numbers."
   ]
  },
  {
   "cell_type": "code",
   "execution_count": 13,
   "metadata": {
    "id": "64SUsh1cbDUJ"
   },
   "outputs": [
    {
     "name": "stdout",
     "output_type": "stream",
     "text": [
      "Odd Numbers List:  [5, 17, 19, 7, 45]\n"
     ]
    }
   ],
   "source": [
    "listofnumber = [5, 4, 17, 19, 30, 2, 7, 10, 45]\n",
    "\n",
    "odd_numbers = list(filter(lambda a: a % 2 != 0, listofnumber))\n",
    "print(f\"Odd Numbers List:  {odd_numbers}\")"
   ]
  }
 ],
 "metadata": {
  "colab": {
   "provenance": []
  },
  "kernelspec": {
   "display_name": "Python 3",
   "language": "python",
   "name": "python3"
  },
  "language_info": {
   "codemirror_mode": {
    "name": "ipython",
    "version": 3
   },
   "file_extension": ".py",
   "mimetype": "text/x-python",
   "name": "python",
   "nbconvert_exporter": "python",
   "pygments_lexer": "ipython3",
   "version": "3.9.6"
  }
 },
 "nbformat": 4,
 "nbformat_minor": 0
}
